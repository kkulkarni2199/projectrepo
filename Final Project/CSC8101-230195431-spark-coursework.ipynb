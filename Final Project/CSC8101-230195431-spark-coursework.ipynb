{
 "cells": [
  {
   "cell_type": "markdown",
   "metadata": {
    "application/vnd.databricks.v1+cell": {
     "cellMetadata": {
      "byteLimit": 2048000,
      "rowLimit": 10000
     },
     "inputWidgets": {},
     "nuid": "7601bf0e-75f1-4b25-97f1-54e1d855bd12",
     "showTitle": false,
     "title": ""
    }
   },
   "source": [
    "# [CSC8101] Engineering for AI - 2024 Spark Coursework"
   ]
  },
  {
   "cell_type": "markdown",
   "metadata": {
    "application/vnd.databricks.v1+cell": {
     "cellMetadata": {
      "byteLimit": 2048000,
      "rowLimit": 10000
     },
     "inputWidgets": {},
     "nuid": "b83fa102-78ef-4286-8c0f-97d1eed89d96",
     "showTitle": false,
     "title": ""
    }
   },
   "source": [
    "### Kaustubh Kulkarni - 230195431"
   ]
  },
  {
   "cell_type": "markdown",
   "metadata": {
    "application/vnd.databricks.v1+cell": {
     "cellMetadata": {
      "byteLimit": 2048000,
      "rowLimit": 10000
     },
     "inputWidgets": {},
     "nuid": "a451fe1b-c36e-4226-a708-a903f5844f7d",
     "showTitle": false,
     "title": ""
    }
   },
   "source": [
    "## Coursework overview\n",
    "\n",
    "### Inputs\n",
    "\n",
    "- **NYC Taxi Trips dataset** - list of recorded taxi trips, each with several characteristics, namely: distance, number of passengers, origin zone, destination zone and trip cost (total amount charged to customer).\n",
    "- **NYC Zones dataset** - list of zones wherein trips can originate/terminate.\n",
    "\n",
    "### Tasks\n",
    "\n",
    "1. Data cleaning\n",
    "  1. Remove \"0 distance\" and 'no passengers' records.\n",
    "  2. Remove outlier records. \n",
    "2. Add new columns\n",
    "  1. Join with zones dataset\n",
    "  2. Compute the unit profitability of each trip\n",
    "3. Zone summarisation and ranking\n",
    "  1. Summarise trip data per zone\n",
    "  2. Obtain the top 10 ranks according to:\n",
    "    1. The total trip volume\n",
    "    2. Their average profitabilitiy\n",
    "    3. The total passenger volume\n",
    "4. Record the total and task-specific execution times for each dataset size and format.\n",
    "\n",
    "### How to\n",
    "\n",
    "###### Code structure and implementation\n",
    "\n",
    "- You must implement your solution to each task in the provided function code skeleton.\n",
    "- The task-specific functions are combined together to form the full pipeline code, executed last (do not modify this code).\n",
    "- Before implementing the specified function skeleton, you should develop and test your solution on separate code cells (create and destroy cells as needed).\n",
    "\n",
    "###### Development\n",
    "\n",
    "- Develop an initial working solution for the 'S' dataset and only then optimise it for larger dataset sizes.\n",
    "- To perform vectorised operations on a DataFrame:\n",
    "  - use the API docs to look for existing vectorised functions in: https://spark.apache.org/docs/latest/api/python/reference/pyspark.sql/functions.html\n",
    "  - actions to get around the lazy execution of spark: \n",
    "  https://spark.apache.org/docs/latest/rdd-programming-guide.html#actions\n",
    "  - if a customised function is required (e.g. to add a new column based on a linear combination of other columns), implement your own User Defined Function (UDF). See:  https://spark.apache.org/docs/latest/sql-ref-functions-udf-scalar.html\n",
    "- Use only the `pyspark.sql` API - documentation link below - (note that searching through the docs returns results from the `pyspark.sql` API together with the `pyspark.pandas` API):\n",
    "  - https://spark.apache.org/docs/3.2.0/api/python/reference/pyspark.sql.html\n",
    "- Periodically download your notebook to your computer as backup and safety measure against accidental file deletion.\n",
    " \n",
    "###### Execution time measurement\n",
    "\n",
    "- Execution time is calculated and returned by the Spark Engine and shown in the output region of the cell.\n",
    "- To measure the execution time of a task you must perform a `collect` or similar operation (e.g. `take`) on the returned DataFrame."
   ]
  },
  {
   "cell_type": "markdown",
   "metadata": {
    "application/vnd.databricks.v1+cell": {
     "cellMetadata": {
      "byteLimit": 2048000,
      "rowLimit": 10000
     },
     "inputWidgets": {},
     "nuid": "d26c1c73-cac4-4937-8201-4c15cc6be296",
     "showTitle": false,
     "title": ""
    }
   },
   "source": [
    "## Task 0 - Read data\n",
    "\n",
    "The code below is ready to run. **Do not modify this code**. It does the following:\n",
    "\n",
    "- Reads the 'zones' dataset into variable 'zone_names'\n",
    "- Defines the `init_trips` function that allows you to read the 'trips' dataset (from the DBFS FileStore) given the dataset size ('S' to 'XXL') and format ('parquet' or 'delta') as function arguments\n",
    "- Defines the `pipeline` function, called in Task 4 to measure the execution time of the entire data processing pipeline\n",
    "- Shows you how to call the `init_trips` function and display dataset characteristics (number of rows, schema)"
   ]
  },
  {
   "cell_type": "code",
   "execution_count": 0,
   "metadata": {
    "application/vnd.databricks.v1+cell": {
     "cellMetadata": {
      "byteLimit": 2048000,
      "rowLimit": 10000
     },
     "inputWidgets": {},
     "nuid": "57aaebcc-fc2a-4d86-a58e-c1489efeadaf",
     "showTitle": false,
     "title": ""
    }
   },
   "outputs": [],
   "source": [
    "## global imports\n",
    "import pyspark.sql as ps\n",
    "import pyspark.sql.functions as pf\n",
    "import pandas as pd\n",
    "\n",
    "# Load zone names dataset - (much faster to read small file from git than dbfs)\n",
    "zones_file_url = 'https://raw.githubusercontent.com/mutazb999/CSC8101-lab-and-coursework/main/02-assignment-spark/taxi_zone_names.csv'\n",
    "zone_names = spark.createDataFrame(pd.read_csv(zones_file_url))\n",
    "\n",
    "# Function to load trips dataset by selected dataset size\n",
    "def init_trips(size = 'S', data_format = \"parquet\", taxi_folder = \"/FileStore/tables/taxi\"):     \n",
    "    \n",
    "    files = {\n",
    "        'S'  : ['2021_07'],\n",
    "        'M'  : ['2021'],\n",
    "        'L'  : ['2020_21'],\n",
    "        'XL' : ['1_6_2019', '7_12_2019'],\n",
    "        'XXL': ['1_6_2019', '7_12_2019', '2020_21']\n",
    "    }\n",
    "    \n",
    "    # validate input dataset size\n",
    "    if size not in files.keys():\n",
    "        print(\"Invalid input dataset size. Must be one of {}\".format(list(files.keys())))\n",
    "        return None               \n",
    "    \n",
    "    if data_format == \"parquet\":\n",
    "        filenames = list(map(lambda s: f'{taxi_folder}/parquet/tripdata_{s}.parquet', files[size]))\n",
    "        trips_df = spark.read.parquet(filenames[0])\n",
    "        \n",
    "        for name in filenames[1:]:\n",
    "            trips_df = trips_df.union(spark.read.parquet(name))\n",
    "            \n",
    "    elif data_format == \"delta\":\n",
    "        filenames = f\"{taxi_folder}/delta/taxi-{size}-delta/\"\n",
    "        trips_df = spark.read.format(\"delta\").load(filenames)\n",
    "    \n",
    "    else:\n",
    "        print(\"Invalid data format. Must be one of {}\".format(['parquet', 'delta']))\n",
    "        return None\n",
    "        \n",
    "    print(\n",
    "    \"\"\"\n",
    "    Trips dataset loaded!\n",
    "    ---\n",
    "      Size: {s}\n",
    "      Format: {f}\n",
    "      Tables loaded: {ds}\n",
    "      Number of trips (dataset rows): {tc:,}\n",
    "    \"\"\".format(s = size, f = data_format, ds = filenames, tc = trips_df.count()))\n",
    "    \n",
    "    return trips_df\n",
    "\n",
    "# helper function to print dataset row count\n",
    "def print_count(df):\n",
    "    print(\"Row count: {t:,}\".format(t = df.count()))\n",
    "\n",
    "def pipeline(trips_df, with_task_12 = False, zones_df = zone_names):\n",
    "    # Do not edit\n",
    "    #---\n",
    "\n",
    "    ## Task 1.1\n",
    "    _trips_11 = t11_remove_zeros(trips_df)\n",
    "\n",
    "    ## Task 1.2\n",
    "    if with_task_12:\n",
    "        _trips_12 = t12_remove_outliers(_trips_11)\n",
    "    else:\n",
    "        _trips_12 = _trips_11\n",
    "\n",
    "    ## Task 2.1\n",
    "    _trips_21 = t21_join_zones(_trips_12, zones_df = zone_names)\n",
    "\n",
    "    ## Task 2.2\n",
    "    _trips_22 = t22_calc_profit(_trips_21)\n",
    "\n",
    "    ## Task 3.1\n",
    "    _graph = t31_summarise_trips(_trips_22)\n",
    "\n",
    "    ## Task 3.2\n",
    "    _zones = t32_summarise_zones_pairs(_graph)\n",
    "\n",
    "    _top10_trips     = t32_top10_trips(_zones)\n",
    "    _top10_profit    = t32_top10_profit(_zones)\n",
    "    _top10_passenger = t32_top10_passenger(_zones)\n",
    "    \n",
    "    return([_top10_trips, _top10_profit, _top10_passenger])"
   ]
  },
  {
   "cell_type": "code",
   "execution_count": 0,
   "metadata": {
    "application/vnd.databricks.v1+cell": {
     "cellMetadata": {
      "byteLimit": 2048000,
      "rowLimit": 10000
     },
     "inputWidgets": {},
     "nuid": "490ab841-fd73-4466-a6e7-5121395deca9",
     "showTitle": false,
     "title": ""
    }
   },
   "outputs": [
    {
     "output_type": "stream",
     "name": "stdout",
     "output_type": "stream",
     "text": [
      "\n    Trips dataset loaded!\n    ---\n      Size: S\n      Format: parquet\n      Tables loaded: ['/FileStore/tables/taxi/parquet/tripdata_2021_07.parquet']\n      Number of trips (dataset rows): 2,898,033\n    \n"
     ]
    },
    {
     "output_type": "execute_result",
     "data": {
      "text/plain": [
       "[Row(index=0, VendorID=1.0, tpep_pickup_datetime='2021-07-01 00:08:51', tpep_dropoff_datetime='2021-07-01 00:13:05', passenger_count=1.0, trip_distance=0.8, RatecodeID=1.0, store_and_fwd_flag='N', PULocationID=90, DOLocationID=68, payment_type=1.0, fare_amount=5.0, extra=3.0, mta_tax=0.5, tip_amount=0.0, tolls_amount=0.0, improvement_surcharge=0.3, total_amount=8.8, congestion_surcharge=2.5, cab_type='Y', lpep_pickup_datetime=None, lpep_dropoff_datetime=None, ehail_fee=None, trip_type=None)]"
      ]
     },
     "execution_count": 2,
     "metadata": {},
     "output_type": "execute_result"
    }
   ],
   "source": [
    "# CHANGE the value of argument 'size' to record the pipeline execution times for increasing dataset sizes\n",
    "SIZE = 'S'\n",
    "DATA_FORMAT = 'parquet'\n",
    "\n",
    "# Load trips dataset\n",
    "trips = init_trips(SIZE, DATA_FORMAT)\n",
    "\n",
    "# uncomment line only for small datasets\n",
    "trips.take(1)"
   ]
  },
  {
   "cell_type": "code",
   "execution_count": 0,
   "metadata": {
    "application/vnd.databricks.v1+cell": {
     "cellMetadata": {
      "byteLimit": 2048000,
      "rowLimit": 10000
     },
     "inputWidgets": {},
     "nuid": "92da0d12-33a0-4df0-b1d2-607ebb65d948",
     "showTitle": false,
     "title": ""
    }
   },
   "outputs": [
    {
     "output_type": "stream",
     "name": "stdout",
     "output_type": "stream",
     "text": [
      "Row count: 2,898,033\n"
     ]
    }
   ],
   "source": [
    "print_count(trips)"
   ]
  },
  {
   "cell_type": "code",
   "execution_count": 0,
   "metadata": {
    "application/vnd.databricks.v1+cell": {
     "cellMetadata": {
      "byteLimit": 2048000,
      "rowLimit": 10000
     },
     "inputWidgets": {},
     "nuid": "490e67f7-4457-4bd5-b89a-a6d24c5645d5",
     "showTitle": false,
     "title": ""
    }
   },
   "outputs": [
    {
     "output_type": "stream",
     "name": "stdout",
     "output_type": "stream",
     "text": [
      "root\n |-- index: long (nullable = true)\n |-- VendorID: double (nullable = true)\n |-- tpep_pickup_datetime: string (nullable = true)\n |-- tpep_dropoff_datetime: string (nullable = true)\n |-- passenger_count: double (nullable = true)\n |-- trip_distance: double (nullable = true)\n |-- RatecodeID: double (nullable = true)\n |-- store_and_fwd_flag: string (nullable = true)\n |-- PULocationID: long (nullable = true)\n |-- DOLocationID: long (nullable = true)\n |-- payment_type: double (nullable = true)\n |-- fare_amount: double (nullable = true)\n |-- extra: double (nullable = true)\n |-- mta_tax: double (nullable = true)\n |-- tip_amount: double (nullable = true)\n |-- tolls_amount: double (nullable = true)\n |-- improvement_surcharge: double (nullable = true)\n |-- total_amount: double (nullable = true)\n |-- congestion_surcharge: double (nullable = true)\n |-- cab_type: string (nullable = true)\n |-- lpep_pickup_datetime: string (nullable = true)\n |-- lpep_dropoff_datetime: string (nullable = true)\n |-- ehail_fee: double (nullable = true)\n |-- trip_type: double (nullable = true)\n\n"
     ]
    }
   ],
   "source": [
    "# dataset schemas\n",
    "trips.printSchema()"
   ]
  },
  {
   "cell_type": "code",
   "execution_count": 0,
   "metadata": {
    "application/vnd.databricks.v1+cell": {
     "cellMetadata": {
      "byteLimit": 2048000,
      "rowLimit": 10000
     },
     "inputWidgets": {},
     "nuid": "5e2ab160-b9b8-4c4a-bb70-fc3197bae230",
     "showTitle": false,
     "title": ""
    }
   },
   "outputs": [
    {
     "output_type": "display_data",
     "data": {
      "text/html": [
       "<style scoped>\n",
       "  .table-result-container {\n",
       "    max-height: 300px;\n",
       "    overflow: auto;\n",
       "  }\n",
       "  table, th, td {\n",
       "    border: 1px solid black;\n",
       "    border-collapse: collapse;\n",
       "  }\n",
       "  th, td {\n",
       "    padding: 5px;\n",
       "  }\n",
       "  th {\n",
       "    text-align: left;\n",
       "  }\n",
       "</style><div class='table-result-container'><table class='table-result'><thead style='background-color: white'><tr><th>PULocationID</th><th>DOLocationID</th><th>trip_distance</th><th>passenger_count</th><th>total_amount</th></tr></thead><tbody><tr><td>90</td><td>68</td><td>0.8</td><td>1.0</td><td>8.8</td></tr><tr><td>113</td><td>90</td><td>0.9</td><td>1.0</td><td>8.8</td></tr><tr><td>88</td><td>232</td><td>2.8</td><td>1.0</td><td>13.8</td></tr><tr><td>79</td><td>249</td><td>1.4</td><td>1.0</td><td>12.3</td></tr><tr><td>142</td><td>238</td><td>2.0</td><td>0.0</td><td>12.3</td></tr></tbody></table></div>"
      ]
     },
     "metadata": {
      "application/vnd.databricks.v1+output": {
       "addedWidgets": {},
       "aggData": [],
       "aggError": "",
       "aggOverflow": false,
       "aggSchema": [],
       "aggSeriesLimitReached": false,
       "aggType": "",
       "arguments": {},
       "columnCustomDisplayInfos": {},
       "data": [
        [
         90,
         68,
         0.8,
         1.0,
         8.8
        ],
        [
         113,
         90,
         0.9,
         1.0,
         8.8
        ],
        [
         88,
         232,
         2.8,
         1.0,
         13.8
        ],
        [
         79,
         249,
         1.4,
         1.0,
         12.3
        ],
        [
         142,
         238,
         2.0,
         0.0,
         12.3
        ]
       ],
       "datasetInfos": [],
       "dbfsResultPath": null,
       "isJsonSchema": true,
       "metadata": {},
       "overflow": false,
       "plotOptions": {
        "customPlotOptions": {},
        "displayType": "table",
        "pivotAggregation": null,
        "pivotColumns": null,
        "xColumns": null,
        "yColumns": null
       },
       "removedWidgets": [],
       "schema": [
        {
         "metadata": "{}",
         "name": "PULocationID",
         "type": "\"long\""
        },
        {
         "metadata": "{}",
         "name": "DOLocationID",
         "type": "\"long\""
        },
        {
         "metadata": "{}",
         "name": "trip_distance",
         "type": "\"double\""
        },
        {
         "metadata": "{}",
         "name": "passenger_count",
         "type": "\"double\""
        },
        {
         "metadata": "{}",
         "name": "total_amount",
         "type": "\"double\""
        }
       ],
       "type": "table"
      }
     },
     "output_type": "display_data"
    }
   ],
   "source": [
    "display(trips[['PULocationID', 'DOLocationID', 'trip_distance', 'passenger_count', 'total_amount']].take(5))"
   ]
  },
  {
   "cell_type": "code",
   "execution_count": 0,
   "metadata": {
    "application/vnd.databricks.v1+cell": {
     "cellMetadata": {
      "byteLimit": 2048000,
      "rowLimit": 10000
     },
     "inputWidgets": {},
     "nuid": "eee4451c-b49a-42a6-b87e-81aad4144cf1",
     "showTitle": false,
     "title": ""
    }
   },
   "outputs": [
    {
     "output_type": "stream",
     "name": "stdout",
     "output_type": "stream",
     "text": [
      "root\n |-- LocationID: long (nullable = true)\n |-- Borough: string (nullable = true)\n |-- Zone: string (nullable = true)\n |-- service_zone: string (nullable = true)\n\n"
     ]
    }
   ],
   "source": [
    "zone_names.printSchema()"
   ]
  },
  {
   "cell_type": "code",
   "execution_count": 0,
   "metadata": {
    "application/vnd.databricks.v1+cell": {
     "cellMetadata": {
      "byteLimit": 2048000,
      "rowLimit": 10000
     },
     "inputWidgets": {},
     "nuid": "8a1ed0a0-0621-471d-8332-d47b52f71817",
     "showTitle": false,
     "title": ""
    }
   },
   "outputs": [
    {
     "output_type": "display_data",
     "data": {
      "text/html": [
       "<style scoped>\n",
       "  .table-result-container {\n",
       "    max-height: 300px;\n",
       "    overflow: auto;\n",
       "  }\n",
       "  table, th, td {\n",
       "    border: 1px solid black;\n",
       "    border-collapse: collapse;\n",
       "  }\n",
       "  th, td {\n",
       "    padding: 5px;\n",
       "  }\n",
       "  th {\n",
       "    text-align: left;\n",
       "  }\n",
       "</style><div class='table-result-container'><table class='table-result'><thead style='background-color: white'><tr><th>LocationID</th><th>Borough</th><th>Zone</th><th>service_zone</th></tr></thead><tbody><tr><td>1</td><td>EWR</td><td>Newark Airport</td><td>EWR</td></tr><tr><td>2</td><td>Queens</td><td>Jamaica Bay</td><td>Boro Zone</td></tr><tr><td>3</td><td>Bronx</td><td>Allerton/Pelham Gardens</td><td>Boro Zone</td></tr><tr><td>4</td><td>Manhattan</td><td>Alphabet City</td><td>Yellow Zone</td></tr><tr><td>5</td><td>Staten Island</td><td>Arden Heights</td><td>Boro Zone</td></tr></tbody></table></div>"
      ]
     },
     "metadata": {
      "application/vnd.databricks.v1+output": {
       "addedWidgets": {},
       "aggData": [],
       "aggError": "",
       "aggOverflow": false,
       "aggSchema": [],
       "aggSeriesLimitReached": false,
       "aggType": "",
       "arguments": {},
       "columnCustomDisplayInfos": {},
       "data": [
        [
         1,
         "EWR",
         "Newark Airport",
         "EWR"
        ],
        [
         2,
         "Queens",
         "Jamaica Bay",
         "Boro Zone"
        ],
        [
         3,
         "Bronx",
         "Allerton/Pelham Gardens",
         "Boro Zone"
        ],
        [
         4,
         "Manhattan",
         "Alphabet City",
         "Yellow Zone"
        ],
        [
         5,
         "Staten Island",
         "Arden Heights",
         "Boro Zone"
        ]
       ],
       "datasetInfos": [],
       "dbfsResultPath": null,
       "isJsonSchema": true,
       "metadata": {},
       "overflow": false,
       "plotOptions": {
        "customPlotOptions": {},
        "displayType": "table",
        "pivotAggregation": null,
        "pivotColumns": null,
        "xColumns": null,
        "yColumns": null
       },
       "removedWidgets": [],
       "schema": [
        {
         "metadata": "{}",
         "name": "LocationID",
         "type": "\"long\""
        },
        {
         "metadata": "{}",
         "name": "Borough",
         "type": "\"string\""
        },
        {
         "metadata": "{}",
         "name": "Zone",
         "type": "\"string\""
        },
        {
         "metadata": "{}",
         "name": "service_zone",
         "type": "\"string\""
        }
       ],
       "type": "table"
      }
     },
     "output_type": "display_data"
    }
   ],
   "source": [
    "display(zone_names.take(5))"
   ]
  },
  {
   "cell_type": "markdown",
   "metadata": {
    "application/vnd.databricks.v1+cell": {
     "cellMetadata": {
      "byteLimit": 2048000,
      "rowLimit": 10000
     },
     "inputWidgets": {},
     "nuid": "99294dd5-92b7-4e50-9623-d00d82da993b",
     "showTitle": false,
     "title": ""
    }
   },
   "source": [
    "## Task 1 - Filter rows\n",
    "\n",
    "**Input:** trips dataset\n",
    "\n",
    "### Task 1.1 - Remove \"0 distance\" and 'no passengers' records\n",
    "\n",
    "Remove dataset rows that represent invalid trips:\n",
    "\n",
    "- Trips where `trip_distance == 0` (no distance travelled)\n",
    "- Trips where `passenger_count == 0` and `total_amount == 0` (we want to retain records where `total_amount` > 0 - these may be significant as the taxi may have carried some parcel, for example)\n",
    "\n",
    "Altogether, a record is removed if it satisfies the following conditions:\n",
    "\n",
    "`trip_distance == 0` or `(passenger_count == 0` and `total_amount == 0)`.\n",
    "\n",
    "**Recommended:** Select only the relevant dataset columns for this and subsequent tasks: `['PULocationID', 'DOLocationID', 'trip_distance', 'passenger_count', 'total_amount')]`\n",
    "\n",
    "### Task 1.2 - Remove outliers using the modified z-score\n",
    "\n",
    "Despite having removed spurious \"zero passengers\" trips in task 1.1, columns `total_amount` and `trip_distance` contain additional outlier values that must be identified and removed.\n",
    "\n",
    "To identify and remove outliers, you will use the modified [z-score](https://en.wikipedia.org/wiki/Standard_score) method.\n",
    "The modified z-score uses the median and [Median Absolute Deviation](https://en.wikipedia.org/wiki/Median_absolute_deviation) (MAD), instead of the mean and standard deviation, to determine how far an observation (indexed by i) is from the mean:\n",
    "\n",
    "$$z_i = \\frac{x_i - \\mathit{median}(\\mathbf{x})}{\\mathbf{MAD}},$$\n",
    "\n",
    "where x represents the input vector, xi is an element of x and zi is its corresponding z-score. In turn, the MAD formula is:\n",
    "\n",
    "$$\\mathbf{MAD} = 1.483 * \\mathit{median}(\\big\\lvert x_i - \\mathit{median}(\\mathbf{x})\\big\\rvert).$$\n",
    "\n",
    "Observations with **high** (absolute) z-score are considered outlier observations. A score is considered **high** if its __absolute z-score__ is larger than a threshold T = 3.5:\n",
    "\n",
    "$$\\big\\lvert z_i \\big\\rvert > 3.5.$$\n",
    "\n",
    "where T represents the number of unit standard deviations beyond which a score is considered an outlier ([wiki](https://en.wikipedia.org/wiki/68%E2%80%9395%E2%80%9399.7_rule)).\n",
    "\n",
    "This process is repeated twice, once for each of the columns `total_amount` and `trip_distance` (in any order).\n",
    "\n",
    "**Important:** Use the surrogate function [`percentile_approx`](https://spark.apache.org/docs/3.2.0/api/python/reference/api/pyspark.sql.functions.percentile_approx.html?highlight=percentile#pyspark.sql.functions.percentile_approx) to estimate the median (calculating the median values for a column is expensive as it cannot be parallelised efficiently)."
   ]
  },
  {
   "cell_type": "code",
   "execution_count": 0,
   "metadata": {
    "application/vnd.databricks.v1+cell": {
     "cellMetadata": {
      "byteLimit": 2048000,
      "rowLimit": 10000
     },
     "inputWidgets": {},
     "nuid": "b53021ef-a0ab-43be-8885-142617707a5c",
     "showTitle": false,
     "title": ""
    }
   },
   "outputs": [],
   "source": [
    "# develop your solution here (create/destroy cells as needed) and then implement it in the functions below"
   ]
  },
  {
   "cell_type": "code",
   "execution_count": 0,
   "metadata": {
    "application/vnd.databricks.v1+cell": {
     "cellMetadata": {
      "byteLimit": 2048000,
      "rowLimit": 10000
     },
     "inputWidgets": {},
     "nuid": "4ac2d5d7-21d4-4bbb-b2ea-0e6e4df89a58",
     "showTitle": false,
     "title": ""
    }
   },
   "outputs": [],
   "source": [
    "# Your solution implementation to task 1.1 goes HERE\n",
    "def t11_remove_zeros(df):\n",
    "    # input: trips dataset\n",
    "    relevant_columns = ['PULocationID', 'DOLocationID', 'trip_distance', 'passenger_count', 'total_amount']\n",
    "    df = df[relevant_columns]\n",
    "    filtered_df = df[(df['trip_distance'] > 0 ) | ((df['passenger_count'] > 0) & (df['total_amount'] > 0))]\n",
    "    return filtered_df"
   ]
  },
  {
   "cell_type": "code",
   "execution_count": 0,
   "metadata": {
    "application/vnd.databricks.v1+cell": {
     "cellMetadata": {
      "byteLimit": 2048000,
      "rowLimit": 10000
     },
     "inputWidgets": {},
     "nuid": "3c6c287d-8707-4989-8ee9-2967a486c925",
     "showTitle": false,
     "title": ""
    }
   },
   "outputs": [
    {
     "output_type": "stream",
     "name": "stdout",
     "output_type": "stream",
     "text": [
      "Row count: 2,888,435\n"
     ]
    },
    {
     "output_type": "display_data",
     "data": {
      "text/html": [
       "<style scoped>\n",
       "  .table-result-container {\n",
       "    max-height: 300px;\n",
       "    overflow: auto;\n",
       "  }\n",
       "  table, th, td {\n",
       "    border: 1px solid black;\n",
       "    border-collapse: collapse;\n",
       "  }\n",
       "  th, td {\n",
       "    padding: 5px;\n",
       "  }\n",
       "  th {\n",
       "    text-align: left;\n",
       "  }\n",
       "</style><div class='table-result-container'><table class='table-result'><thead style='background-color: white'><tr><th>PULocationID</th><th>DOLocationID</th><th>trip_distance</th><th>passenger_count</th><th>total_amount</th></tr></thead><tbody><tr><td>90</td><td>68</td><td>0.8</td><td>1.0</td><td>8.8</td></tr><tr><td>113</td><td>90</td><td>0.9</td><td>1.0</td><td>8.8</td></tr><tr><td>88</td><td>232</td><td>2.8</td><td>1.0</td><td>13.8</td></tr><tr><td>79</td><td>249</td><td>1.4</td><td>1.0</td><td>12.3</td></tr><tr><td>142</td><td>238</td><td>2.0</td><td>0.0</td><td>12.3</td></tr><tr><td>114</td><td>90</td><td>1.6</td><td>1.0</td><td>12.8</td></tr><tr><td>90</td><td>144</td><td>1.8</td><td>1.0</td><td>13.3</td></tr><tr><td>114</td><td>48</td><td>2.0</td><td>1.0</td><td>14.75</td></tr><tr><td>48</td><td>152</td><td>5.7</td><td>1.0</td><td>22.3</td></tr><tr><td>234</td><td>148</td><td>1.8</td><td>1.0</td><td>14.75</td></tr></tbody></table></div>"
      ]
     },
     "metadata": {
      "application/vnd.databricks.v1+output": {
       "addedWidgets": {},
       "aggData": [],
       "aggError": "",
       "aggOverflow": false,
       "aggSchema": [],
       "aggSeriesLimitReached": false,
       "aggType": "",
       "arguments": {},
       "columnCustomDisplayInfos": {},
       "data": [
        [
         90,
         68,
         0.8,
         1.0,
         8.8
        ],
        [
         113,
         90,
         0.9,
         1.0,
         8.8
        ],
        [
         88,
         232,
         2.8,
         1.0,
         13.8
        ],
        [
         79,
         249,
         1.4,
         1.0,
         12.3
        ],
        [
         142,
         238,
         2.0,
         0.0,
         12.3
        ],
        [
         114,
         90,
         1.6,
         1.0,
         12.8
        ],
        [
         90,
         144,
         1.8,
         1.0,
         13.3
        ],
        [
         114,
         48,
         2.0,
         1.0,
         14.75
        ],
        [
         48,
         152,
         5.7,
         1.0,
         22.3
        ],
        [
         234,
         148,
         1.8,
         1.0,
         14.75
        ]
       ],
       "datasetInfos": [],
       "dbfsResultPath": null,
       "isJsonSchema": true,
       "metadata": {},
       "overflow": false,
       "plotOptions": {
        "customPlotOptions": {},
        "displayType": "table",
        "pivotAggregation": null,
        "pivotColumns": null,
        "xColumns": null,
        "yColumns": null
       },
       "removedWidgets": [],
       "schema": [
        {
         "metadata": "{}",
         "name": "PULocationID",
         "type": "\"long\""
        },
        {
         "metadata": "{}",
         "name": "DOLocationID",
         "type": "\"long\""
        },
        {
         "metadata": "{}",
         "name": "trip_distance",
         "type": "\"double\""
        },
        {
         "metadata": "{}",
         "name": "passenger_count",
         "type": "\"double\""
        },
        {
         "metadata": "{}",
         "name": "total_amount",
         "type": "\"double\""
        }
       ],
       "type": "table"
      }
     },
     "output_type": "display_data"
    }
   ],
   "source": [
    "# execute task 1.1\n",
    "trips_11 = t11_remove_zeros(trips)\n",
    "\n",
    "\n",
    "print_count(trips_11)\n",
    "\n",
    "## uncomment only for smaller datasets\n",
    "display(trips_11.take(10))"
   ]
  },
  {
   "cell_type": "code",
   "execution_count": 0,
   "metadata": {
    "application/vnd.databricks.v1+cell": {
     "cellMetadata": {
      "byteLimit": 2048000,
      "rowLimit": 10000
     },
     "inputWidgets": {},
     "nuid": "c0162cd3-d060-495d-9a86-ebf4a6f507ac",
     "showTitle": false,
     "title": ""
    }
   },
   "outputs": [],
   "source": [
    "# Your solution implementation to task 1.2 goes HERE\n",
    "def MAD(df):\n",
    "\n",
    "    total_amount_median = df.agg(pf.percentile_approx(\"total_amount\", 0.5)).collect()[0][0] # median of total_amount column (single value)\n",
    "    trip_distance_median = df.agg(pf.percentile_approx(\"trip_distance\", 0.5)).collect()[0][0] # median of trip_distance column (single value)\n",
    "    total_amount_MAD = 1.438*df.agg(pf.percentile_approx(pf.abs(df.total_amount - total_amount_median), 0.5)).collect()[0][0] # MAD value of total amount calculated using the formula given above (single value)\n",
    "    trip_distance_MAD = 1.438*df.agg(pf.percentile_approx(pf.abs(df.trip_distance - trip_distance_median), 0.5)).collect()[0][0] # MAD value of trip distance calculated using the formula given above (single value)\n",
    "    \n",
    "    return total_amount_median, total_amount_MAD, trip_distance_median, trip_distance_MAD\n",
    "\n",
    "def z_score(df, total_amount_median, total_amount_MAD, trip_distance_median, trip_distance_MAD):\n",
    "    \n",
    "    z_total_amount = (df.total_amount - total_amount_median)/total_amount_MAD # Column with z score calculated based on total amount\n",
    "    z_trip_distance = (df.trip_distance - trip_distance_median)/trip_distance_MAD # Column with z score calculated based on trip distance\n",
    "    \n",
    "    return z_total_amount, z_trip_distance\n",
    "\n",
    "\n",
    "def t12_remove_outliers(df):\n",
    "\n",
    "    total_amount_median, total_amount_MAD, trip_distance_median, trip_distance_MAD = MAD(df) # calling MAD function created above\n",
    "    z_total_amount, z_trip_distance = z_score(df, total_amount_median, total_amount_MAD, trip_distance_median, trip_distance_MAD) # calling z_score function created above\n",
    "    df = df.withColumn('z_total_amount', z_total_amount) # renaming the column\n",
    "    df = df.withColumn('z_trip_distance', z_trip_distance) # renaming the column\n",
    "    df = df.filter(pf.abs(df.z_total_amount) <= 3.5) # removing the rows which are having z_score more than 3.5\n",
    "    df = df.filter(pf.abs(df.z_trip_distance) <= 3.5) # removing the rows which are having z_score more than 3.5\n",
    "\n",
    "    return df"
   ]
  },
  {
   "cell_type": "code",
   "execution_count": 0,
   "metadata": {
    "application/vnd.databricks.v1+cell": {
     "cellMetadata": {
      "byteLimit": 2048000,
      "rowLimit": 10000
     },
     "inputWidgets": {},
     "nuid": "96533a0e-242b-42d6-bc10-3b1ea3a13681",
     "showTitle": false,
     "title": ""
    }
   },
   "outputs": [
    {
     "output_type": "stream",
     "name": "stdout",
     "output_type": "stream",
     "text": [
      "Row count: 2,510,877\n"
     ]
    },
    {
     "output_type": "display_data",
     "data": {
      "text/html": [
       "<style scoped>\n",
       "  .table-result-container {\n",
       "    max-height: 300px;\n",
       "    overflow: auto;\n",
       "  }\n",
       "  table, th, td {\n",
       "    border: 1px solid black;\n",
       "    border-collapse: collapse;\n",
       "  }\n",
       "  th, td {\n",
       "    padding: 5px;\n",
       "  }\n",
       "  th {\n",
       "    text-align: left;\n",
       "  }\n",
       "</style><div class='table-result-container'><table class='table-result'><thead style='background-color: white'><tr><th>PULocationID</th><th>DOLocationID</th><th>trip_distance</th><th>passenger_count</th><th>total_amount</th><th>z_total_amount</th><th>z_trip_distance</th></tr></thead><tbody><tr><td>90</td><td>68</td><td>0.8</td><td>1.0</td><td>8.8</td><td>-1.0585870956604446</td><td>-0.7886096095665516</td></tr><tr><td>113</td><td>90</td><td>0.9</td><td>1.0</td><td>8.8</td><td>-1.0585870956604446</td><td>-0.7169178268786832</td></tr><tr><td>88</td><td>232</td><td>2.8</td><td>1.0</td><td>13.8</td><td>-0.2442893297677949</td><td>0.6452260441908149</td></tr><tr><td>79</td><td>249</td><td>1.4</td><td>1.0</td><td>12.3</td><td>-0.4885786595355898</td><td>-0.35845891343934166</td></tr><tr><td>142</td><td>238</td><td>2.0</td><td>0.0</td><td>12.3</td><td>-0.4885786595355898</td><td>0.0716917826878684</td></tr><tr><td>114</td><td>90</td><td>1.6</td><td>1.0</td><td>12.8</td><td>-0.40714888294632484</td><td>-0.21507534806360487</td></tr><tr><td>90</td><td>144</td><td>1.8</td><td>1.0</td><td>13.3</td><td>-0.32571910635705986</td><td>-0.07169178268786823</td></tr><tr><td>114</td><td>48</td><td>2.0</td><td>1.0</td><td>14.75</td><td>-0.08957275424819158</td><td>0.0716917826878684</td></tr><tr><td>48</td><td>152</td><td>5.7</td><td>1.0</td><td>22.3</td><td>1.1400168722497095</td><td>2.724287742138997</td></tr><tr><td>234</td><td>148</td><td>1.8</td><td>1.0</td><td>14.75</td><td>-0.08957275424819158</td><td>-0.07169178268786823</td></tr></tbody></table></div>"
      ]
     },
     "metadata": {
      "application/vnd.databricks.v1+output": {
       "addedWidgets": {},
       "aggData": [],
       "aggError": "",
       "aggOverflow": false,
       "aggSchema": [],
       "aggSeriesLimitReached": false,
       "aggType": "",
       "arguments": {},
       "columnCustomDisplayInfos": {},
       "data": [
        [
         90,
         68,
         0.8,
         1.0,
         8.8,
         -1.0585870956604446,
         -0.7886096095665516
        ],
        [
         113,
         90,
         0.9,
         1.0,
         8.8,
         -1.0585870956604446,
         -0.7169178268786832
        ],
        [
         88,
         232,
         2.8,
         1.0,
         13.8,
         -0.2442893297677949,
         0.6452260441908149
        ],
        [
         79,
         249,
         1.4,
         1.0,
         12.3,
         -0.4885786595355898,
         -0.35845891343934166
        ],
        [
         142,
         238,
         2.0,
         0.0,
         12.3,
         -0.4885786595355898,
         0.0716917826878684
        ],
        [
         114,
         90,
         1.6,
         1.0,
         12.8,
         -0.40714888294632484,
         -0.21507534806360487
        ],
        [
         90,
         144,
         1.8,
         1.0,
         13.3,
         -0.32571910635705986,
         -0.07169178268786823
        ],
        [
         114,
         48,
         2.0,
         1.0,
         14.75,
         -0.08957275424819158,
         0.0716917826878684
        ],
        [
         48,
         152,
         5.7,
         1.0,
         22.3,
         1.1400168722497095,
         2.724287742138997
        ],
        [
         234,
         148,
         1.8,
         1.0,
         14.75,
         -0.08957275424819158,
         -0.07169178268786823
        ]
       ],
       "datasetInfos": [],
       "dbfsResultPath": null,
       "isJsonSchema": true,
       "metadata": {},
       "overflow": false,
       "plotOptions": {
        "customPlotOptions": {},
        "displayType": "table",
        "pivotAggregation": null,
        "pivotColumns": null,
        "xColumns": null,
        "yColumns": null
       },
       "removedWidgets": [],
       "schema": [
        {
         "metadata": "{}",
         "name": "PULocationID",
         "type": "\"long\""
        },
        {
         "metadata": "{}",
         "name": "DOLocationID",
         "type": "\"long\""
        },
        {
         "metadata": "{}",
         "name": "trip_distance",
         "type": "\"double\""
        },
        {
         "metadata": "{}",
         "name": "passenger_count",
         "type": "\"double\""
        },
        {
         "metadata": "{}",
         "name": "total_amount",
         "type": "\"double\""
        },
        {
         "metadata": "{}",
         "name": "z_total_amount",
         "type": "\"double\""
        },
        {
         "metadata": "{}",
         "name": "z_trip_distance",
         "type": "\"double\""
        }
       ],
       "type": "table"
      }
     },
     "output_type": "display_data"
    }
   ],
   "source": [
    "# execute task 1.2\n",
    "trips_12 = t12_remove_outliers(trips_11)\n",
    "\n",
    "print_count(trips_12)\n",
    "display(trips_12.take(10))"
   ]
  },
  {
   "cell_type": "markdown",
   "metadata": {
    "application/vnd.databricks.v1+cell": {
     "cellMetadata": {
      "byteLimit": 2048000,
      "rowLimit": 10000
     },
     "inputWidgets": {},
     "nuid": "77f3f561-5d39-46bf-84fa-0b0c3aafa0cc",
     "showTitle": false,
     "title": ""
    }
   },
   "source": [
    "## Task 2 - Compute new columns\n",
    "\n",
    "### Task 2.1 - Zone names\n",
    "\n",
    "Obtain the **start** and **end** zone names of each trip by joining the `trips` and `zone_names` datasets (i.e. by using the `zone_names` dataset as lookup table).\n",
    "\n",
    "**Note:** The columns containing the start and end zone ids of each trip are named `PULocationID` and `DOLocationID`, respectively.\n",
    "\n",
    "### Task 2.2 - Unit profitability\n",
    "\n",
    "Compute the column `unit_profitability = total_amount / trip_distance`."
   ]
  },
  {
   "cell_type": "code",
   "execution_count": 0,
   "metadata": {
    "application/vnd.databricks.v1+cell": {
     "cellMetadata": {
      "byteLimit": 2048000,
      "rowLimit": 10000
     },
     "inputWidgets": {},
     "nuid": "a61d8288-1539-4f34-856f-98aa7fd0f7f4",
     "showTitle": false,
     "title": ""
    }
   },
   "outputs": [],
   "source": [
    "# develop your solution here (create/destroy cells as needed) and then implement it in the functions below"
   ]
  },
  {
   "cell_type": "code",
   "execution_count": 0,
   "metadata": {
    "application/vnd.databricks.v1+cell": {
     "cellMetadata": {
      "byteLimit": 2048000,
      "rowLimit": 10000
     },
     "inputWidgets": {},
     "nuid": "bf0cd0ff-8d0a-4b46-82de-e2edd56e2f10",
     "showTitle": false,
     "title": ""
    }
   },
   "outputs": [],
   "source": [
    "# Your solution implementation to task 2.1 goes HERE\n",
    "def t21_join_zones(df, zones_df = zone_names):\n",
    "    # input: output of task 1.2 and zone_names dataset\n",
    "    zones_df = zones_df.withColumnRenamed(\"LocationID\", \"PULocationID\") \\\n",
    "                       .withColumnRenamed(\"Borough\", \"PU_Borough\") \\\n",
    "                       .withColumnRenamed(\"Zone\", \"PU_Zone\") \\\n",
    "                       .withColumnRenamed(\"service_zone\", \"PU_service_zone\") \n",
    "                       \n",
    "    \n",
    "    # Join the trips and zone_names datasets for pickup location\n",
    "    trips_with_pickup_zone = df.join(zones_df, on=\"PULocationID\", how=\"left\")\n",
    "    \n",
    "    # Rename the columns in the zone_names DataFrame again for joining with dropoff location\n",
    "    zones_df = zones_df.withColumnRenamed(\"PULocationID\", \"DOLocationID\") \\\n",
    "                       .withColumnRenamed(\"PU_Borough\", \"DO_Borough\") \\\n",
    "                       .withColumnRenamed(\"PU_Zone\", \"DO_Zone\") \\\n",
    "                       .withColumnRenamed(\"PU_service_zone\", \"DO_service_zone\")\n",
    "    \n",
    "    # Join the trips and zone_names datasets for dropoff location\n",
    "    trips_with_zones = trips_with_pickup_zone.join(zones_df, on=\"DOLocationID\", how=\"left\")\n",
    "    \n",
    "    return trips_with_zones"
   ]
  },
  {
   "cell_type": "code",
   "execution_count": 0,
   "metadata": {
    "application/vnd.databricks.v1+cell": {
     "cellMetadata": {
      "byteLimit": 2048000,
      "rowLimit": 10000
     },
     "inputWidgets": {},
     "nuid": "6a3abc15-94bb-4352-964f-e3919956b363",
     "showTitle": false,
     "title": ""
    }
   },
   "outputs": [
    {
     "output_type": "stream",
     "name": "stdout",
     "output_type": "stream",
     "text": [
      "Row count: 2,510,877\n"
     ]
    },
    {
     "output_type": "display_data",
     "data": {
      "text/html": [
       "<style scoped>\n",
       "  .table-result-container {\n",
       "    max-height: 300px;\n",
       "    overflow: auto;\n",
       "  }\n",
       "  table, th, td {\n",
       "    border: 1px solid black;\n",
       "    border-collapse: collapse;\n",
       "  }\n",
       "  th, td {\n",
       "    padding: 5px;\n",
       "  }\n",
       "  th {\n",
       "    text-align: left;\n",
       "  }\n",
       "</style><div class='table-result-container'><table class='table-result'><thead style='background-color: white'><tr><th>DOLocationID</th><th>PULocationID</th><th>trip_distance</th><th>passenger_count</th><th>total_amount</th><th>z_total_amount</th><th>z_trip_distance</th><th>PU_Borough</th><th>PU_Zone</th><th>PU_service_zone</th><th>DO_Borough</th><th>DO_Zone</th><th>DO_service_zone</th></tr></thead><tbody><tr><td>68</td><td>90</td><td>0.8</td><td>1.0</td><td>8.8</td><td>-1.0585870956604446</td><td>-0.7886096095665516</td><td>Manhattan</td><td>Flatiron</td><td>Yellow Zone</td><td>Manhattan</td><td>East Chelsea</td><td>Yellow Zone</td></tr><tr><td>90</td><td>113</td><td>0.9</td><td>1.0</td><td>8.8</td><td>-1.0585870956604446</td><td>-0.7169178268786832</td><td>Manhattan</td><td>Greenwich Village North</td><td>Yellow Zone</td><td>Manhattan</td><td>Flatiron</td><td>Yellow Zone</td></tr><tr><td>232</td><td>88</td><td>2.8</td><td>1.0</td><td>13.8</td><td>-0.2442893297677949</td><td>0.6452260441908149</td><td>Manhattan</td><td>Financial District South</td><td>Yellow Zone</td><td>Manhattan</td><td>Two Bridges/Seward Park</td><td>Yellow Zone</td></tr><tr><td>249</td><td>79</td><td>1.4</td><td>1.0</td><td>12.3</td><td>-0.4885786595355898</td><td>-0.35845891343934166</td><td>Manhattan</td><td>East Village</td><td>Yellow Zone</td><td>Manhattan</td><td>West Village</td><td>Yellow Zone</td></tr><tr><td>238</td><td>142</td><td>2.0</td><td>0.0</td><td>12.3</td><td>-0.4885786595355898</td><td>0.0716917826878684</td><td>Manhattan</td><td>Lincoln Square East</td><td>Yellow Zone</td><td>Manhattan</td><td>Upper West Side North</td><td>Yellow Zone</td></tr><tr><td>90</td><td>114</td><td>1.6</td><td>1.0</td><td>12.8</td><td>-0.40714888294632484</td><td>-0.21507534806360487</td><td>Manhattan</td><td>Greenwich Village South</td><td>Yellow Zone</td><td>Manhattan</td><td>Flatiron</td><td>Yellow Zone</td></tr><tr><td>144</td><td>90</td><td>1.8</td><td>1.0</td><td>13.3</td><td>-0.32571910635705986</td><td>-0.07169178268786823</td><td>Manhattan</td><td>Flatiron</td><td>Yellow Zone</td><td>Manhattan</td><td>Little Italy/NoLiTa</td><td>Yellow Zone</td></tr><tr><td>48</td><td>114</td><td>2.0</td><td>1.0</td><td>14.75</td><td>-0.08957275424819158</td><td>0.0716917826878684</td><td>Manhattan</td><td>Greenwich Village South</td><td>Yellow Zone</td><td>Manhattan</td><td>Clinton East</td><td>Yellow Zone</td></tr><tr><td>152</td><td>48</td><td>5.7</td><td>1.0</td><td>22.3</td><td>1.1400168722497095</td><td>2.724287742138997</td><td>Manhattan</td><td>Clinton East</td><td>Yellow Zone</td><td>Manhattan</td><td>Manhattanville</td><td>Boro Zone</td></tr><tr><td>148</td><td>234</td><td>1.8</td><td>1.0</td><td>14.75</td><td>-0.08957275424819158</td><td>-0.07169178268786823</td><td>Manhattan</td><td>Union Sq</td><td>Yellow Zone</td><td>Manhattan</td><td>Lower East Side</td><td>Yellow Zone</td></tr></tbody></table></div>"
      ]
     },
     "metadata": {
      "application/vnd.databricks.v1+output": {
       "addedWidgets": {},
       "aggData": [],
       "aggError": "",
       "aggOverflow": false,
       "aggSchema": [],
       "aggSeriesLimitReached": false,
       "aggType": "",
       "arguments": {},
       "columnCustomDisplayInfos": {},
       "data": [
        [
         68,
         90,
         0.8,
         1.0,
         8.8,
         -1.0585870956604446,
         -0.7886096095665516,
         "Manhattan",
         "Flatiron",
         "Yellow Zone",
         "Manhattan",
         "East Chelsea",
         "Yellow Zone"
        ],
        [
         90,
         113,
         0.9,
         1.0,
         8.8,
         -1.0585870956604446,
         -0.7169178268786832,
         "Manhattan",
         "Greenwich Village North",
         "Yellow Zone",
         "Manhattan",
         "Flatiron",
         "Yellow Zone"
        ],
        [
         232,
         88,
         2.8,
         1.0,
         13.8,
         -0.2442893297677949,
         0.6452260441908149,
         "Manhattan",
         "Financial District South",
         "Yellow Zone",
         "Manhattan",
         "Two Bridges/Seward Park",
         "Yellow Zone"
        ],
        [
         249,
         79,
         1.4,
         1.0,
         12.3,
         -0.4885786595355898,
         -0.35845891343934166,
         "Manhattan",
         "East Village",
         "Yellow Zone",
         "Manhattan",
         "West Village",
         "Yellow Zone"
        ],
        [
         238,
         142,
         2.0,
         0.0,
         12.3,
         -0.4885786595355898,
         0.0716917826878684,
         "Manhattan",
         "Lincoln Square East",
         "Yellow Zone",
         "Manhattan",
         "Upper West Side North",
         "Yellow Zone"
        ],
        [
         90,
         114,
         1.6,
         1.0,
         12.8,
         -0.40714888294632484,
         -0.21507534806360487,
         "Manhattan",
         "Greenwich Village South",
         "Yellow Zone",
         "Manhattan",
         "Flatiron",
         "Yellow Zone"
        ],
        [
         144,
         90,
         1.8,
         1.0,
         13.3,
         -0.32571910635705986,
         -0.07169178268786823,
         "Manhattan",
         "Flatiron",
         "Yellow Zone",
         "Manhattan",
         "Little Italy/NoLiTa",
         "Yellow Zone"
        ],
        [
         48,
         114,
         2.0,
         1.0,
         14.75,
         -0.08957275424819158,
         0.0716917826878684,
         "Manhattan",
         "Greenwich Village South",
         "Yellow Zone",
         "Manhattan",
         "Clinton East",
         "Yellow Zone"
        ],
        [
         152,
         48,
         5.7,
         1.0,
         22.3,
         1.1400168722497095,
         2.724287742138997,
         "Manhattan",
         "Clinton East",
         "Yellow Zone",
         "Manhattan",
         "Manhattanville",
         "Boro Zone"
        ],
        [
         148,
         234,
         1.8,
         1.0,
         14.75,
         -0.08957275424819158,
         -0.07169178268786823,
         "Manhattan",
         "Union Sq",
         "Yellow Zone",
         "Manhattan",
         "Lower East Side",
         "Yellow Zone"
        ]
       ],
       "datasetInfos": [],
       "dbfsResultPath": null,
       "isJsonSchema": true,
       "metadata": {},
       "overflow": false,
       "plotOptions": {
        "customPlotOptions": {},
        "displayType": "table",
        "pivotAggregation": null,
        "pivotColumns": null,
        "xColumns": null,
        "yColumns": null
       },
       "removedWidgets": [],
       "schema": [
        {
         "metadata": "{}",
         "name": "DOLocationID",
         "type": "\"long\""
        },
        {
         "metadata": "{}",
         "name": "PULocationID",
         "type": "\"long\""
        },
        {
         "metadata": "{}",
         "name": "trip_distance",
         "type": "\"double\""
        },
        {
         "metadata": "{}",
         "name": "passenger_count",
         "type": "\"double\""
        },
        {
         "metadata": "{}",
         "name": "total_amount",
         "type": "\"double\""
        },
        {
         "metadata": "{}",
         "name": "z_total_amount",
         "type": "\"double\""
        },
        {
         "metadata": "{}",
         "name": "z_trip_distance",
         "type": "\"double\""
        },
        {
         "metadata": "{}",
         "name": "PU_Borough",
         "type": "\"string\""
        },
        {
         "metadata": "{}",
         "name": "PU_Zone",
         "type": "\"string\""
        },
        {
         "metadata": "{}",
         "name": "PU_service_zone",
         "type": "\"string\""
        },
        {
         "metadata": "{}",
         "name": "DO_Borough",
         "type": "\"string\""
        },
        {
         "metadata": "{}",
         "name": "DO_Zone",
         "type": "\"string\""
        },
        {
         "metadata": "{}",
         "name": "DO_service_zone",
         "type": "\"string\""
        }
       ],
       "type": "table"
      }
     },
     "output_type": "display_data"
    }
   ],
   "source": [
    "# execute task 2.1\n",
    "trips_21 = t21_join_zones(trips_12, zones_df = zone_names)\n",
    "\n",
    "print_count(trips_21)\n",
    "display(trips_21.take(10))"
   ]
  },
  {
   "cell_type": "code",
   "execution_count": 0,
   "metadata": {
    "application/vnd.databricks.v1+cell": {
     "cellMetadata": {
      "byteLimit": 2048000,
      "rowLimit": 10000
     },
     "inputWidgets": {},
     "nuid": "244ecaed-2632-4ed1-ab91-e41d8a91b7c2",
     "showTitle": false,
     "title": ""
    }
   },
   "outputs": [],
   "source": [
    "# Your solution implementation to task 2.2 goes HERE\n",
    "from pyspark.sql.functions import col\n",
    "\n",
    "def t22_calc_profit(df):\n",
    "    # input: output of task 2.1\n",
    "    df = df.withColumn(\"unit_profitability\", col(\"total_amount\") / col(\"trip_distance\"))\n",
    "    return df"
   ]
  },
  {
   "cell_type": "code",
   "execution_count": 0,
   "metadata": {
    "application/vnd.databricks.v1+cell": {
     "cellMetadata": {
      "byteLimit": 2048000,
      "rowLimit": 10000
     },
     "inputWidgets": {},
     "nuid": "a3528be7-4fe2-4e68-a94b-a3b33ada952c",
     "showTitle": false,
     "title": ""
    }
   },
   "outputs": [
    {
     "output_type": "stream",
     "name": "stdout",
     "output_type": "stream",
     "text": [
      "Row count: 2,510,877\n"
     ]
    },
    {
     "output_type": "display_data",
     "data": {
      "text/html": [
       "<style scoped>\n",
       "  .table-result-container {\n",
       "    max-height: 300px;\n",
       "    overflow: auto;\n",
       "  }\n",
       "  table, th, td {\n",
       "    border: 1px solid black;\n",
       "    border-collapse: collapse;\n",
       "  }\n",
       "  th, td {\n",
       "    padding: 5px;\n",
       "  }\n",
       "  th {\n",
       "    text-align: left;\n",
       "  }\n",
       "</style><div class='table-result-container'><table class='table-result'><thead style='background-color: white'><tr><th>DOLocationID</th><th>PULocationID</th><th>trip_distance</th><th>passenger_count</th><th>total_amount</th><th>z_total_amount</th><th>z_trip_distance</th><th>PU_Borough</th><th>PU_Zone</th><th>PU_service_zone</th><th>DO_Borough</th><th>DO_Zone</th><th>DO_service_zone</th><th>unit_profitability</th></tr></thead><tbody><tr><td>68</td><td>90</td><td>0.8</td><td>1.0</td><td>8.8</td><td>-1.0585870956604446</td><td>-0.7886096095665516</td><td>Manhattan</td><td>Flatiron</td><td>Yellow Zone</td><td>Manhattan</td><td>East Chelsea</td><td>Yellow Zone</td><td>11.0</td></tr><tr><td>90</td><td>113</td><td>0.9</td><td>1.0</td><td>8.8</td><td>-1.0585870956604446</td><td>-0.7169178268786832</td><td>Manhattan</td><td>Greenwich Village North</td><td>Yellow Zone</td><td>Manhattan</td><td>Flatiron</td><td>Yellow Zone</td><td>9.777777777777779</td></tr><tr><td>232</td><td>88</td><td>2.8</td><td>1.0</td><td>13.8</td><td>-0.2442893297677949</td><td>0.6452260441908149</td><td>Manhattan</td><td>Financial District South</td><td>Yellow Zone</td><td>Manhattan</td><td>Two Bridges/Seward Park</td><td>Yellow Zone</td><td>4.928571428571429</td></tr><tr><td>249</td><td>79</td><td>1.4</td><td>1.0</td><td>12.3</td><td>-0.4885786595355898</td><td>-0.35845891343934166</td><td>Manhattan</td><td>East Village</td><td>Yellow Zone</td><td>Manhattan</td><td>West Village</td><td>Yellow Zone</td><td>8.785714285714286</td></tr><tr><td>238</td><td>142</td><td>2.0</td><td>0.0</td><td>12.3</td><td>-0.4885786595355898</td><td>0.0716917826878684</td><td>Manhattan</td><td>Lincoln Square East</td><td>Yellow Zone</td><td>Manhattan</td><td>Upper West Side North</td><td>Yellow Zone</td><td>6.15</td></tr><tr><td>90</td><td>114</td><td>1.6</td><td>1.0</td><td>12.8</td><td>-0.40714888294632484</td><td>-0.21507534806360487</td><td>Manhattan</td><td>Greenwich Village South</td><td>Yellow Zone</td><td>Manhattan</td><td>Flatiron</td><td>Yellow Zone</td><td>8.0</td></tr><tr><td>144</td><td>90</td><td>1.8</td><td>1.0</td><td>13.3</td><td>-0.32571910635705986</td><td>-0.07169178268786823</td><td>Manhattan</td><td>Flatiron</td><td>Yellow Zone</td><td>Manhattan</td><td>Little Italy/NoLiTa</td><td>Yellow Zone</td><td>7.388888888888889</td></tr><tr><td>48</td><td>114</td><td>2.0</td><td>1.0</td><td>14.75</td><td>-0.08957275424819158</td><td>0.0716917826878684</td><td>Manhattan</td><td>Greenwich Village South</td><td>Yellow Zone</td><td>Manhattan</td><td>Clinton East</td><td>Yellow Zone</td><td>7.375</td></tr><tr><td>152</td><td>48</td><td>5.7</td><td>1.0</td><td>22.3</td><td>1.1400168722497095</td><td>2.724287742138997</td><td>Manhattan</td><td>Clinton East</td><td>Yellow Zone</td><td>Manhattan</td><td>Manhattanville</td><td>Boro Zone</td><td>3.912280701754386</td></tr><tr><td>148</td><td>234</td><td>1.8</td><td>1.0</td><td>14.75</td><td>-0.08957275424819158</td><td>-0.07169178268786823</td><td>Manhattan</td><td>Union Sq</td><td>Yellow Zone</td><td>Manhattan</td><td>Lower East Side</td><td>Yellow Zone</td><td>8.194444444444445</td></tr></tbody></table></div>"
      ]
     },
     "metadata": {
      "application/vnd.databricks.v1+output": {
       "addedWidgets": {},
       "aggData": [],
       "aggError": "",
       "aggOverflow": false,
       "aggSchema": [],
       "aggSeriesLimitReached": false,
       "aggType": "",
       "arguments": {},
       "columnCustomDisplayInfos": {},
       "data": [
        [
         68,
         90,
         0.8,
         1.0,
         8.8,
         -1.0585870956604446,
         -0.7886096095665516,
         "Manhattan",
         "Flatiron",
         "Yellow Zone",
         "Manhattan",
         "East Chelsea",
         "Yellow Zone",
         11.0
        ],
        [
         90,
         113,
         0.9,
         1.0,
         8.8,
         -1.0585870956604446,
         -0.7169178268786832,
         "Manhattan",
         "Greenwich Village North",
         "Yellow Zone",
         "Manhattan",
         "Flatiron",
         "Yellow Zone",
         9.777777777777779
        ],
        [
         232,
         88,
         2.8,
         1.0,
         13.8,
         -0.2442893297677949,
         0.6452260441908149,
         "Manhattan",
         "Financial District South",
         "Yellow Zone",
         "Manhattan",
         "Two Bridges/Seward Park",
         "Yellow Zone",
         4.928571428571429
        ],
        [
         249,
         79,
         1.4,
         1.0,
         12.3,
         -0.4885786595355898,
         -0.35845891343934166,
         "Manhattan",
         "East Village",
         "Yellow Zone",
         "Manhattan",
         "West Village",
         "Yellow Zone",
         8.785714285714286
        ],
        [
         238,
         142,
         2.0,
         0.0,
         12.3,
         -0.4885786595355898,
         0.0716917826878684,
         "Manhattan",
         "Lincoln Square East",
         "Yellow Zone",
         "Manhattan",
         "Upper West Side North",
         "Yellow Zone",
         6.15
        ],
        [
         90,
         114,
         1.6,
         1.0,
         12.8,
         -0.40714888294632484,
         -0.21507534806360487,
         "Manhattan",
         "Greenwich Village South",
         "Yellow Zone",
         "Manhattan",
         "Flatiron",
         "Yellow Zone",
         8.0
        ],
        [
         144,
         90,
         1.8,
         1.0,
         13.3,
         -0.32571910635705986,
         -0.07169178268786823,
         "Manhattan",
         "Flatiron",
         "Yellow Zone",
         "Manhattan",
         "Little Italy/NoLiTa",
         "Yellow Zone",
         7.388888888888889
        ],
        [
         48,
         114,
         2.0,
         1.0,
         14.75,
         -0.08957275424819158,
         0.0716917826878684,
         "Manhattan",
         "Greenwich Village South",
         "Yellow Zone",
         "Manhattan",
         "Clinton East",
         "Yellow Zone",
         7.375
        ],
        [
         152,
         48,
         5.7,
         1.0,
         22.3,
         1.1400168722497095,
         2.724287742138997,
         "Manhattan",
         "Clinton East",
         "Yellow Zone",
         "Manhattan",
         "Manhattanville",
         "Boro Zone",
         3.912280701754386
        ],
        [
         148,
         234,
         1.8,
         1.0,
         14.75,
         -0.08957275424819158,
         -0.07169178268786823,
         "Manhattan",
         "Union Sq",
         "Yellow Zone",
         "Manhattan",
         "Lower East Side",
         "Yellow Zone",
         8.194444444444445
        ]
       ],
       "datasetInfos": [],
       "dbfsResultPath": null,
       "isJsonSchema": true,
       "metadata": {},
       "overflow": false,
       "plotOptions": {
        "customPlotOptions": {},
        "displayType": "table",
        "pivotAggregation": null,
        "pivotColumns": null,
        "xColumns": null,
        "yColumns": null
       },
       "removedWidgets": [],
       "schema": [
        {
         "metadata": "{}",
         "name": "DOLocationID",
         "type": "\"long\""
        },
        {
         "metadata": "{}",
         "name": "PULocationID",
         "type": "\"long\""
        },
        {
         "metadata": "{}",
         "name": "trip_distance",
         "type": "\"double\""
        },
        {
         "metadata": "{}",
         "name": "passenger_count",
         "type": "\"double\""
        },
        {
         "metadata": "{}",
         "name": "total_amount",
         "type": "\"double\""
        },
        {
         "metadata": "{}",
         "name": "z_total_amount",
         "type": "\"double\""
        },
        {
         "metadata": "{}",
         "name": "z_trip_distance",
         "type": "\"double\""
        },
        {
         "metadata": "{}",
         "name": "PU_Borough",
         "type": "\"string\""
        },
        {
         "metadata": "{}",
         "name": "PU_Zone",
         "type": "\"string\""
        },
        {
         "metadata": "{}",
         "name": "PU_service_zone",
         "type": "\"string\""
        },
        {
         "metadata": "{}",
         "name": "DO_Borough",
         "type": "\"string\""
        },
        {
         "metadata": "{}",
         "name": "DO_Zone",
         "type": "\"string\""
        },
        {
         "metadata": "{}",
         "name": "DO_service_zone",
         "type": "\"string\""
        },
        {
         "metadata": "{}",
         "name": "unit_profitability",
         "type": "\"double\""
        }
       ],
       "type": "table"
      }
     },
     "output_type": "display_data"
    }
   ],
   "source": [
    "# execute task 2.2\n",
    "trips_22 = t22_calc_profit(trips_21)\n",
    "\n",
    "print_count(trips_22)\n",
    "display(trips_22.take(10))"
   ]
  },
  {
   "cell_type": "markdown",
   "metadata": {
    "application/vnd.databricks.v1+cell": {
     "cellMetadata": {
      "byteLimit": 2048000,
      "rowLimit": 10000
     },
     "inputWidgets": {},
     "nuid": "93c4a6e7-512f-40a8-ad2c-41a84ade373f",
     "showTitle": false,
     "title": ""
    }
   },
   "source": [
    "## Task 3: Rank zones by traffic, passenger volume and profitability\n",
    "\n",
    "### 3.1 - Summarise interzonal travel\n",
    "\n",
    "Build a graph data structure of zone-to-zone traffic, representing aggregated data about trips between any two zones. The graph will have one node for each zone and one edge connecting each pair of zones. In addition, edges contain aggregate information about all trips between those zones. \n",
    "\n",
    "For example, zones Z1 and Z2 are connected by *two* edges: edge Z1 --> Z2 carries aggregate data about all trips that originated in Z1 and ended in Z2, and edge Z2 --> Z1 carries aggregate data about all trips that originated in Z2 and ended in Z1.\n",
    "\n",
    "The aggregate information of interzonal travel must include the following data:\n",
    "\n",
    "- `average_unit_profit` - the average unit profitability (calculated as `mean(unit_profitability)`).\n",
    "- `trips_count` -- the total number of recorded trips.\n",
    "- `total_passengers` -- the total number of passenger across all trips (sum of `passenger_count`).\n",
    "\n",
    "This graph can be represented as a new dataframe, with schema:\n",
    "\n",
    "\\[`PULocationID`, `DOLocationID`, `average_unit_profit`, `trips_count`, `total_passengers` \\]\n",
    "\n",
    "__hint__: the `groupby()` operator produces a `pyspark.sql.GroupedData` structure. You can then calculate multiple aggregations from this using `pyspark.sql.GroupedData.agg()`: \n",
    "- https://spark.apache.org/docs/3.2.0/api/python/reference/pyspark.pandas/api/pyspark.pandas.DataFrame.groupby.html\n",
    "- https://spark.apache.org/docs/3.2.0/api/python/reference/api/pyspark.sql.GroupedData.agg.html\n",
    "\n",
    "### Task 3.2 - Obtain top-10 zones\n",
    "\n",
    "For each of the following measures, report the top-10 zones _using their plain names you dereferenced in the previous step, not the codes_. Note that this requires ranking the nodes in different orders. Specifically, you need to calculate the following further aggregations:\n",
    "\n",
    "- the **total** number of trips originating from Z. This is simply the sum of `trips_count` over all outgoing edges for Z, i.e., edges of the form Z -> \\*\n",
    "- the **average** profitability of a zone. This is the average of all `average_unit_profit` over all *outgoing* edges from Z.\n",
    "- The **total** passenger volume measured as the **sum** of `total_passengers` carried in trips that originate from Z"
   ]
  },
  {
   "cell_type": "code",
   "execution_count": 0,
   "metadata": {
    "application/vnd.databricks.v1+cell": {
     "cellMetadata": {
      "byteLimit": 2048000,
      "rowLimit": 10000
     },
     "inputWidgets": {},
     "nuid": "069fc68b-acdd-47c2-be12-27d32b7916c8",
     "showTitle": false,
     "title": ""
    }
   },
   "outputs": [],
   "source": [
    "# develop your solution here (create/destroy cells as needed) and then implement it in the functions below"
   ]
  },
  {
   "cell_type": "code",
   "execution_count": 0,
   "metadata": {
    "application/vnd.databricks.v1+cell": {
     "cellMetadata": {
      "byteLimit": 2048000,
      "rowLimit": 10000
     },
     "inputWidgets": {},
     "nuid": "38084194-2635-46aa-ac74-93509c03a86e",
     "showTitle": false,
     "title": ""
    }
   },
   "outputs": [],
   "source": [
    "## Your solution to task 3.1 goes HERE\n",
    "from pyspark.sql.functions import avg, sum, count, mean\n",
    "\n",
    "def t31_summarise_trips(df):\n",
    "    # input: output of task 2.2\n",
    "    # Aggregate data for interzonal travel\n",
    "    df = df.groupBy(\"PULocationID\", \"DOLocationID\") \\\n",
    "                                 .agg(mean(\"unit_profitability\").alias(\"average_unit_profit\"),\n",
    "                                      count(\"trip_distance\").alias(\"trips_count\"),\n",
    "                                      sum(\"passenger_count\").alias(\"total_passengers\"))\n",
    "    return df"
   ]
  },
  {
   "cell_type": "code",
   "execution_count": 0,
   "metadata": {
    "application/vnd.databricks.v1+cell": {
     "cellMetadata": {
      "byteLimit": 2048000,
      "rowLimit": 10000
     },
     "inputWidgets": {},
     "nuid": "b81c74ad-e5f1-4b69-a320-bdf375b94e8d",
     "showTitle": false,
     "title": ""
    }
   },
   "outputs": [
    {
     "output_type": "stream",
     "name": "stdout",
     "output_type": "stream",
     "text": [
      "Row count: 15,617\n"
     ]
    },
    {
     "output_type": "display_data",
     "data": {
      "text/html": [
       "<style scoped>\n",
       "  .table-result-container {\n",
       "    max-height: 300px;\n",
       "    overflow: auto;\n",
       "  }\n",
       "  table, th, td {\n",
       "    border: 1px solid black;\n",
       "    border-collapse: collapse;\n",
       "  }\n",
       "  th, td {\n",
       "    padding: 5px;\n",
       "  }\n",
       "  th {\n",
       "    text-align: left;\n",
       "  }\n",
       "</style><div class='table-result-container'><table class='table-result'><thead style='background-color: white'><tr><th>PULocationID</th><th>DOLocationID</th><th>average_unit_profit</th><th>trips_count</th><th>total_passengers</th></tr></thead><tbody><tr><td>17</td><td>26</td><td>5.862292456092071</td><td>5</td><td>3.0</td></tr><tr><td>228</td><td>26</td><td>7.41471058428216</td><td>10</td><td>4.0</td></tr><tr><td>108</td><td>26</td><td>6.236111111111111</td><td>1</td><td>1.0</td></tr><tr><td>142</td><td>26</td><td>null</td><td>1</td><td>1.0</td></tr><tr><td>25</td><td>26</td><td>4.722645989088705</td><td>3</td><td>4.0</td></tr><tr><td>21</td><td>29</td><td>7.742119414102729</td><td>10</td><td>2.0</td></tr><tr><td>97</td><td>26</td><td>4.504891363110619</td><td>9</td><td>10.0</td></tr><tr><td>22</td><td>26</td><td>15.249447857883409</td><td>33</td><td>3.0</td></tr><tr><td>76</td><td>26</td><td>7.056962025316456</td><td>3</td><td>2.0</td></tr><tr><td>76</td><td>29</td><td>null</td><td>2</td><td>2.0</td></tr></tbody></table></div>"
      ]
     },
     "metadata": {
      "application/vnd.databricks.v1+output": {
       "addedWidgets": {},
       "aggData": [],
       "aggError": "",
       "aggOverflow": false,
       "aggSchema": [],
       "aggSeriesLimitReached": false,
       "aggType": "",
       "arguments": {},
       "columnCustomDisplayInfos": {},
       "data": [
        [
         17,
         26,
         5.862292456092071,
         5,
         3.0
        ],
        [
         228,
         26,
         7.41471058428216,
         10,
         4.0
        ],
        [
         108,
         26,
         6.236111111111111,
         1,
         1.0
        ],
        [
         142,
         26,
         null,
         1,
         1.0
        ],
        [
         25,
         26,
         4.722645989088705,
         3,
         4.0
        ],
        [
         21,
         29,
         7.742119414102729,
         10,
         2.0
        ],
        [
         97,
         26,
         4.504891363110619,
         9,
         10.0
        ],
        [
         22,
         26,
         15.249447857883409,
         33,
         3.0
        ],
        [
         76,
         26,
         7.056962025316456,
         3,
         2.0
        ],
        [
         76,
         29,
         null,
         2,
         2.0
        ]
       ],
       "datasetInfos": [],
       "dbfsResultPath": null,
       "isJsonSchema": true,
       "metadata": {},
       "overflow": false,
       "plotOptions": {
        "customPlotOptions": {},
        "displayType": "table",
        "pivotAggregation": null,
        "pivotColumns": null,
        "xColumns": null,
        "yColumns": null
       },
       "removedWidgets": [],
       "schema": [
        {
         "metadata": "{}",
         "name": "PULocationID",
         "type": "\"long\""
        },
        {
         "metadata": "{}",
         "name": "DOLocationID",
         "type": "\"long\""
        },
        {
         "metadata": "{}",
         "name": "average_unit_profit",
         "type": "\"double\""
        },
        {
         "metadata": "{}",
         "name": "trips_count",
         "type": "\"long\""
        },
        {
         "metadata": "{}",
         "name": "total_passengers",
         "type": "\"double\""
        }
       ],
       "type": "table"
      }
     },
     "output_type": "display_data"
    }
   ],
   "source": [
    "# execute task 3.1\n",
    "graph = t31_summarise_trips(trips_22)\n",
    "\n",
    "print_count(graph)\n",
    "display(graph.take(10))"
   ]
  },
  {
   "cell_type": "code",
   "execution_count": 0,
   "metadata": {
    "application/vnd.databricks.v1+cell": {
     "cellMetadata": {
      "byteLimit": 2048000,
      "rowLimit": 10000
     },
     "inputWidgets": {},
     "nuid": "c285cd2d-861b-4790-8fe8-4b4b6cdbc8f4",
     "showTitle": false,
     "title": ""
    }
   },
   "outputs": [],
   "source": [
    "# Your solution to task 3.2 goes HERE (implement each of the functions below)\n",
    "def t32_summarise_zones_pairs(df, zones_df = zone_names):\n",
    "    df = df.join(zones_df.select(\"LocationID\",\"Zone\"),df['PULocationID'] == zones_df['LocationID'], how='left')\n",
    "    df = df.withColumnRenamed('Zone', 'start')\n",
    "    df = df.drop(\"LocationID\")\n",
    "    df = df.join(zones_df.select(\"LocationID\",\"Zone\"),df['DOLocationID'] == zones_df['LocationID'], how='left')\n",
    "    df = df.withColumnRenamed('Zone', 'stop')\n",
    "    df = df.drop(\"LocationID\")\n",
    "    return df\n",
    "\n",
    "# Top 10 ranked zones by traffic (trip volume)\n",
    "def t32_top10_trips(df_zones):\n",
    "    # input: output of task 3.2\n",
    "    top10_trips = df_zones.orderBy(\"trips_count\", ascending=False).limit(10)\n",
    "    return top10_trips\n",
    "\n",
    "# Top 10 ranked zones by profit\n",
    "def t32_top10_profit(df_zones):\n",
    "    # input: output of task 3.2\n",
    "    top10_profit = df_zones.orderBy(\"average_unit_profit\", ascending=False).limit(10)\n",
    "    return top10_profit\n",
    "\n",
    "# Top 10 ranked zones by passenger volume\n",
    "def t32_top10_passenger(df_zones):\n",
    "    # input: output of task 3.2\n",
    "    top10_passenger = df_zones.orderBy(\"total_passengers\", ascending=False).limit(10)\n",
    "    return top10_passenger"
   ]
  },
  {
   "cell_type": "code",
   "execution_count": 0,
   "metadata": {
    "application/vnd.databricks.v1+cell": {
     "cellMetadata": {
      "byteLimit": 2048000,
      "rowLimit": 10000
     },
     "inputWidgets": {},
     "nuid": "0bb32624-cca2-461e-816d-c49ecc98374e",
     "showTitle": false,
     "title": ""
    }
   },
   "outputs": [],
   "source": [
    "# execute task 3.2\n",
    "zones = t32_summarise_zones_pairs(graph)\n",
    "\n",
    "top10_trips     = t32_top10_trips(zones)\n",
    "top10_profit    = t32_top10_profit(zones)\n",
    "top10_passenger = t32_top10_passenger(zones)"
   ]
  },
  {
   "cell_type": "code",
   "execution_count": 0,
   "metadata": {
    "application/vnd.databricks.v1+cell": {
     "cellMetadata": {
      "byteLimit": 2048000,
      "rowLimit": 10000
     },
     "inputWidgets": {},
     "nuid": "382adcca-e15c-45d2-88bf-6ae97b8c6e30",
     "showTitle": false,
     "title": ""
    }
   },
   "outputs": [
    {
     "output_type": "display_data",
     "data": {
      "text/html": [
       "<style scoped>\n",
       "  .table-result-container {\n",
       "    max-height: 300px;\n",
       "    overflow: auto;\n",
       "  }\n",
       "  table, th, td {\n",
       "    border: 1px solid black;\n",
       "    border-collapse: collapse;\n",
       "  }\n",
       "  th, td {\n",
       "    padding: 5px;\n",
       "  }\n",
       "  th {\n",
       "    text-align: left;\n",
       "  }\n",
       "</style><div class='table-result-container'><table class='table-result'><thead style='background-color: white'><tr><th>PULocationID</th><th>DOLocationID</th><th>average_unit_profit</th><th>trips_count</th><th>total_passengers</th><th>start</th><th>stop</th></tr></thead><tbody><tr><td>237</td><td>236</td><td>11.57441123089697</td><td>15276</td><td>20893.0</td><td>Upper East Side South</td><td>Upper East Side North</td></tr><tr><td>236</td><td>237</td><td>11.865007247086426</td><td>13326</td><td>18567.0</td><td>Upper East Side North</td><td>Upper East Side South</td></tr><tr><td>237</td><td>237</td><td>19.048286369237072</td><td>11599</td><td>16351.0</td><td>Upper East Side South</td><td>Upper East Side South</td></tr><tr><td>236</td><td>236</td><td>20.41364428546659</td><td>9952</td><td>13906.0</td><td>Upper East Side North</td><td>Upper East Side North</td></tr><tr><td>264</td><td>264</td><td>15.08137084742967</td><td>8265</td><td>12601.0</td><td>NV</td><td>NV</td></tr><tr><td>237</td><td>161</td><td>11.717716194174908</td><td>7404</td><td>10295.0</td><td>Upper East Side South</td><td>Midtown Center</td></tr><tr><td>161</td><td>237</td><td>11.946247435087487</td><td>6824</td><td>9708.0</td><td>Midtown Center</td><td>Upper East Side South</td></tr><tr><td>237</td><td>162</td><td>12.571280048234033</td><td>6700</td><td>9456.0</td><td>Upper East Side South</td><td>Midtown East</td></tr><tr><td>239</td><td>142</td><td>13.17454084160379</td><td>6536</td><td>9292.0</td><td>Upper West Side South</td><td>Lincoln Square East</td></tr><tr><td>142</td><td>239</td><td>12.228503826579944</td><td>6446</td><td>9263.0</td><td>Lincoln Square East</td><td>Upper West Side South</td></tr></tbody></table></div>"
      ]
     },
     "metadata": {
      "application/vnd.databricks.v1+output": {
       "addedWidgets": {},
       "aggData": [],
       "aggError": "",
       "aggOverflow": false,
       "aggSchema": [],
       "aggSeriesLimitReached": false,
       "aggType": "",
       "arguments": {},
       "columnCustomDisplayInfos": {},
       "data": [
        [
         237,
         236,
         11.57441123089697,
         15276,
         20893.0,
         "Upper East Side South",
         "Upper East Side North"
        ],
        [
         236,
         237,
         11.865007247086426,
         13326,
         18567.0,
         "Upper East Side North",
         "Upper East Side South"
        ],
        [
         237,
         237,
         19.048286369237072,
         11599,
         16351.0,
         "Upper East Side South",
         "Upper East Side South"
        ],
        [
         236,
         236,
         20.41364428546659,
         9952,
         13906.0,
         "Upper East Side North",
         "Upper East Side North"
        ],
        [
         264,
         264,
         15.08137084742967,
         8265,
         12601.0,
         "NV",
         "NV"
        ],
        [
         237,
         161,
         11.717716194174908,
         7404,
         10295.0,
         "Upper East Side South",
         "Midtown Center"
        ],
        [
         161,
         237,
         11.946247435087487,
         6824,
         9708.0,
         "Midtown Center",
         "Upper East Side South"
        ],
        [
         237,
         162,
         12.571280048234033,
         6700,
         9456.0,
         "Upper East Side South",
         "Midtown East"
        ],
        [
         239,
         142,
         13.17454084160379,
         6536,
         9292.0,
         "Upper West Side South",
         "Lincoln Square East"
        ],
        [
         142,
         239,
         12.228503826579944,
         6446,
         9263.0,
         "Lincoln Square East",
         "Upper West Side South"
        ]
       ],
       "datasetInfos": [],
       "dbfsResultPath": null,
       "isJsonSchema": true,
       "metadata": {},
       "overflow": false,
       "plotOptions": {
        "customPlotOptions": {},
        "displayType": "table",
        "pivotAggregation": null,
        "pivotColumns": null,
        "xColumns": null,
        "yColumns": null
       },
       "removedWidgets": [],
       "schema": [
        {
         "metadata": "{}",
         "name": "PULocationID",
         "type": "\"long\""
        },
        {
         "metadata": "{}",
         "name": "DOLocationID",
         "type": "\"long\""
        },
        {
         "metadata": "{}",
         "name": "average_unit_profit",
         "type": "\"double\""
        },
        {
         "metadata": "{}",
         "name": "trips_count",
         "type": "\"long\""
        },
        {
         "metadata": "{}",
         "name": "total_passengers",
         "type": "\"double\""
        },
        {
         "metadata": "{}",
         "name": "start",
         "type": "\"string\""
        },
        {
         "metadata": "{}",
         "name": "stop",
         "type": "\"string\""
        }
       ],
       "type": "table"
      }
     },
     "output_type": "display_data"
    }
   ],
   "source": [
    "# use 'display()' or return a pandas DataFrame for 'pretty' output\n",
    "display(top10_trips)"
   ]
  },
  {
   "cell_type": "code",
   "execution_count": 0,
   "metadata": {
    "application/vnd.databricks.v1+cell": {
     "cellMetadata": {
      "byteLimit": 2048000,
      "rowLimit": 10000
     },
     "inputWidgets": {},
     "nuid": "847abfd1-7424-43c0-976e-5c615736a56b",
     "showTitle": false,
     "title": ""
    }
   },
   "outputs": [
    {
     "output_type": "display_data",
     "data": {
      "text/html": [
       "<style scoped>\n",
       "  .table-result-container {\n",
       "    max-height: 300px;\n",
       "    overflow: auto;\n",
       "  }\n",
       "  table, th, td {\n",
       "    border: 1px solid black;\n",
       "    border-collapse: collapse;\n",
       "  }\n",
       "  th, td {\n",
       "    padding: 5px;\n",
       "  }\n",
       "  th {\n",
       "    text-align: left;\n",
       "  }\n",
       "</style><div class='table-result-container'><table class='table-result'><thead style='background-color: white'><tr><th>PULocationID</th><th>DOLocationID</th><th>average_unit_profit</th><th>trips_count</th><th>total_passengers</th><th>start</th><th>stop</th></tr></thead><tbody><tr><td>15</td><td>203</td><td>3409.0000000000005</td><td>1</td><td>null</td><td>Bay Terrace/Fort Totten</td><td>Rosedale</td></tr><tr><td>10</td><td>264</td><td>2736.0</td><td>10</td><td>12.0</td><td>Baisley Park</td><td>NV</td></tr><tr><td>190</td><td>264</td><td>2076.0</td><td>2</td><td>1.0</td><td>Prospect Park</td><td>NV</td></tr><tr><td>241</td><td>264</td><td>1530.0</td><td>1</td><td>1.0</td><td>Van Cortlandt Village</td><td>NV</td></tr><tr><td>89</td><td>264</td><td>1518.0</td><td>4</td><td>4.0</td><td>Flatbush/Ditmas Park</td><td>NV</td></tr><tr><td>25</td><td>264</td><td>988.4120569280344</td><td>4</td><td>6.0</td><td>Boerum Hill</td><td>NV</td></tr><tr><td>168</td><td>264</td><td>948.0</td><td>3</td><td>3.0</td><td>Mott Haven/Port Morris</td><td>NV</td></tr><tr><td>190</td><td>190</td><td>866.6666666666666</td><td>2</td><td>1.0</td><td>Prospect Park</td><td>Prospect Park</td></tr><tr><td>81</td><td>81</td><td>566.0705091732574</td><td>12</td><td>9.0</td><td>Eastchester</td><td>Eastchester</td></tr><tr><td>192</td><td>192</td><td>554.8688492063492</td><td>4</td><td>7.0</td><td>Queensboro Hill</td><td>Queensboro Hill</td></tr></tbody></table></div>"
      ]
     },
     "metadata": {
      "application/vnd.databricks.v1+output": {
       "addedWidgets": {},
       "aggData": [],
       "aggError": "",
       "aggOverflow": false,
       "aggSchema": [],
       "aggSeriesLimitReached": false,
       "aggType": "",
       "arguments": {},
       "columnCustomDisplayInfos": {},
       "data": [
        [
         15,
         203,
         3409.0000000000005,
         1,
         null,
         "Bay Terrace/Fort Totten",
         "Rosedale"
        ],
        [
         10,
         264,
         2736.0,
         10,
         12.0,
         "Baisley Park",
         "NV"
        ],
        [
         190,
         264,
         2076.0,
         2,
         1.0,
         "Prospect Park",
         "NV"
        ],
        [
         241,
         264,
         1530.0,
         1,
         1.0,
         "Van Cortlandt Village",
         "NV"
        ],
        [
         89,
         264,
         1518.0,
         4,
         4.0,
         "Flatbush/Ditmas Park",
         "NV"
        ],
        [
         25,
         264,
         988.4120569280344,
         4,
         6.0,
         "Boerum Hill",
         "NV"
        ],
        [
         168,
         264,
         948.0,
         3,
         3.0,
         "Mott Haven/Port Morris",
         "NV"
        ],
        [
         190,
         190,
         866.6666666666666,
         2,
         1.0,
         "Prospect Park",
         "Prospect Park"
        ],
        [
         81,
         81,
         566.0705091732574,
         12,
         9.0,
         "Eastchester",
         "Eastchester"
        ],
        [
         192,
         192,
         554.8688492063492,
         4,
         7.0,
         "Queensboro Hill",
         "Queensboro Hill"
        ]
       ],
       "datasetInfos": [],
       "dbfsResultPath": null,
       "isJsonSchema": true,
       "metadata": {},
       "overflow": false,
       "plotOptions": {
        "customPlotOptions": {},
        "displayType": "table",
        "pivotAggregation": null,
        "pivotColumns": null,
        "xColumns": null,
        "yColumns": null
       },
       "removedWidgets": [],
       "schema": [
        {
         "metadata": "{}",
         "name": "PULocationID",
         "type": "\"long\""
        },
        {
         "metadata": "{}",
         "name": "DOLocationID",
         "type": "\"long\""
        },
        {
         "metadata": "{}",
         "name": "average_unit_profit",
         "type": "\"double\""
        },
        {
         "metadata": "{}",
         "name": "trips_count",
         "type": "\"long\""
        },
        {
         "metadata": "{}",
         "name": "total_passengers",
         "type": "\"double\""
        },
        {
         "metadata": "{}",
         "name": "start",
         "type": "\"string\""
        },
        {
         "metadata": "{}",
         "name": "stop",
         "type": "\"string\""
        }
       ],
       "type": "table"
      }
     },
     "output_type": "display_data"
    }
   ],
   "source": [
    "# use 'display()' return a pandas DataFrame for 'pretty' output\n",
    "display(top10_profit)"
   ]
  },
  {
   "cell_type": "code",
   "execution_count": 0,
   "metadata": {
    "application/vnd.databricks.v1+cell": {
     "cellMetadata": {
      "byteLimit": 2048000,
      "rowLimit": 10000
     },
     "inputWidgets": {},
     "nuid": "90eb7561-5775-4e6a-8317-473f311e4cfe",
     "showTitle": false,
     "title": ""
    }
   },
   "outputs": [
    {
     "output_type": "display_data",
     "data": {
      "text/html": [
       "<style scoped>\n",
       "  .table-result-container {\n",
       "    max-height: 300px;\n",
       "    overflow: auto;\n",
       "  }\n",
       "  table, th, td {\n",
       "    border: 1px solid black;\n",
       "    border-collapse: collapse;\n",
       "  }\n",
       "  th, td {\n",
       "    padding: 5px;\n",
       "  }\n",
       "  th {\n",
       "    text-align: left;\n",
       "  }\n",
       "</style><div class='table-result-container'><table class='table-result'><thead style='background-color: white'><tr><th>PULocationID</th><th>DOLocationID</th><th>average_unit_profit</th><th>trips_count</th><th>total_passengers</th><th>start</th><th>stop</th></tr></thead><tbody><tr><td>237</td><td>236</td><td>11.57441123089697</td><td>15276</td><td>20893.0</td><td>Upper East Side South</td><td>Upper East Side North</td></tr><tr><td>236</td><td>237</td><td>11.865007247086426</td><td>13326</td><td>18567.0</td><td>Upper East Side North</td><td>Upper East Side South</td></tr><tr><td>237</td><td>237</td><td>19.048286369237072</td><td>11599</td><td>16351.0</td><td>Upper East Side South</td><td>Upper East Side South</td></tr><tr><td>236</td><td>236</td><td>20.41364428546659</td><td>9952</td><td>13906.0</td><td>Upper East Side North</td><td>Upper East Side North</td></tr><tr><td>264</td><td>264</td><td>15.08137084742967</td><td>8265</td><td>12601.0</td><td>NV</td><td>NV</td></tr><tr><td>237</td><td>161</td><td>11.717716194174908</td><td>7404</td><td>10295.0</td><td>Upper East Side South</td><td>Midtown Center</td></tr><tr><td>161</td><td>237</td><td>11.946247435087487</td><td>6824</td><td>9708.0</td><td>Midtown Center</td><td>Upper East Side South</td></tr><tr><td>237</td><td>162</td><td>12.571280048234033</td><td>6700</td><td>9456.0</td><td>Upper East Side South</td><td>Midtown East</td></tr><tr><td>239</td><td>142</td><td>13.17454084160379</td><td>6536</td><td>9292.0</td><td>Upper West Side South</td><td>Lincoln Square East</td></tr><tr><td>142</td><td>239</td><td>12.228503826579944</td><td>6446</td><td>9263.0</td><td>Lincoln Square East</td><td>Upper West Side South</td></tr></tbody></table></div>"
      ]
     },
     "metadata": {
      "application/vnd.databricks.v1+output": {
       "addedWidgets": {},
       "aggData": [],
       "aggError": "",
       "aggOverflow": false,
       "aggSchema": [],
       "aggSeriesLimitReached": false,
       "aggType": "",
       "arguments": {},
       "columnCustomDisplayInfos": {},
       "data": [
        [
         237,
         236,
         11.57441123089697,
         15276,
         20893.0,
         "Upper East Side South",
         "Upper East Side North"
        ],
        [
         236,
         237,
         11.865007247086426,
         13326,
         18567.0,
         "Upper East Side North",
         "Upper East Side South"
        ],
        [
         237,
         237,
         19.048286369237072,
         11599,
         16351.0,
         "Upper East Side South",
         "Upper East Side South"
        ],
        [
         236,
         236,
         20.41364428546659,
         9952,
         13906.0,
         "Upper East Side North",
         "Upper East Side North"
        ],
        [
         264,
         264,
         15.08137084742967,
         8265,
         12601.0,
         "NV",
         "NV"
        ],
        [
         237,
         161,
         11.717716194174908,
         7404,
         10295.0,
         "Upper East Side South",
         "Midtown Center"
        ],
        [
         161,
         237,
         11.946247435087487,
         6824,
         9708.0,
         "Midtown Center",
         "Upper East Side South"
        ],
        [
         237,
         162,
         12.571280048234033,
         6700,
         9456.0,
         "Upper East Side South",
         "Midtown East"
        ],
        [
         239,
         142,
         13.17454084160379,
         6536,
         9292.0,
         "Upper West Side South",
         "Lincoln Square East"
        ],
        [
         142,
         239,
         12.228503826579944,
         6446,
         9263.0,
         "Lincoln Square East",
         "Upper West Side South"
        ]
       ],
       "datasetInfos": [],
       "dbfsResultPath": null,
       "isJsonSchema": true,
       "metadata": {},
       "overflow": false,
       "plotOptions": {
        "customPlotOptions": {},
        "displayType": "table",
        "pivotAggregation": null,
        "pivotColumns": null,
        "xColumns": null,
        "yColumns": null
       },
       "removedWidgets": [],
       "schema": [
        {
         "metadata": "{}",
         "name": "PULocationID",
         "type": "\"long\""
        },
        {
         "metadata": "{}",
         "name": "DOLocationID",
         "type": "\"long\""
        },
        {
         "metadata": "{}",
         "name": "average_unit_profit",
         "type": "\"double\""
        },
        {
         "metadata": "{}",
         "name": "trips_count",
         "type": "\"long\""
        },
        {
         "metadata": "{}",
         "name": "total_passengers",
         "type": "\"double\""
        },
        {
         "metadata": "{}",
         "name": "start",
         "type": "\"string\""
        },
        {
         "metadata": "{}",
         "name": "stop",
         "type": "\"string\""
        }
       ],
       "type": "table"
      }
     },
     "output_type": "display_data"
    }
   ],
   "source": [
    "# use 'display()' or return a pandas DataFrame for 'pretty' output\n",
    "display(top10_passenger)"
   ]
  },
  {
   "cell_type": "markdown",
   "metadata": {
    "application/vnd.databricks.v1+cell": {
     "cellMetadata": {
      "byteLimit": 2048000,
      "rowLimit": 10000
     },
     "inputWidgets": {},
     "nuid": "7b950c5e-b7fd-405e-a0ba-0fe9c2752678",
     "showTitle": false,
     "title": ""
    }
   },
   "source": [
    "## Task 4 - Record the pipeline's execution time\n",
    "\n",
    "Record the execution time of:\n",
    "\n",
    "1. the whole pipeline\n",
    "2. the whole pipeline except task 1.2\n",
    "\n",
    "on the two tables below, for all dataset sizes: `'S'`, `'M'`, `'L'`, `'XL'`, `'XXL'`, and data formats: `parquet` and `delta`.\n",
    "\n",
    "Analyse the resulting execution times and comment on the effect of dataset size, dataset format and task complexity (with and without task 1.2) on pipeline performance."
   ]
  },
  {
   "cell_type": "code",
   "execution_count": 0,
   "metadata": {
    "application/vnd.databricks.v1+cell": {
     "cellMetadata": {
      "byteLimit": 2048000,
      "rowLimit": 10000
     },
     "inputWidgets": {},
     "nuid": "a0e68e8c-4de9-4e04-9de0-f36e24b10f7a",
     "showTitle": false,
     "title": ""
    }
   },
   "outputs": [
    {
     "output_type": "stream",
     "name": "stdout",
     "output_type": "stream",
     "text": [
      "\n    Trips dataset loaded!\n    ---\n      Size: S\n      Format: parquet\n      Tables loaded: ['/FileStore/tables/taxi/parquet/tripdata_2021_07.parquet']\n      Number of trips (dataset rows): 2,898,033\n    \n"
     ]
    }
   ],
   "source": [
    "# CHANGE the value of the following arguments to record the pipeline execution times for increasing dataset sizes\n",
    "SIZE = 'S'\n",
    "DATA_FORMAT = 'parquet'\n",
    "WITH_TASK_12 = True\n",
    "\n",
    "# Load trips dataset\n",
    "trips = init_trips(SIZE, DATA_FORMAT)"
   ]
  },
  {
   "cell_type": "code",
   "execution_count": 0,
   "metadata": {
    "application/vnd.databricks.v1+cell": {
     "cellMetadata": {
      "byteLimit": 2048000,
      "rowLimit": 10000
     },
     "inputWidgets": {},
     "nuid": "68681494-9d89-4706-908d-c5545444e8ca",
     "showTitle": false,
     "title": ""
    }
   },
   "outputs": [
    {
     "output_type": "execute_result",
     "data": {
      "text/plain": [
       "[DataFrame[PULocationID: bigint, DOLocationID: bigint, average_unit_profit: double, trips_count: bigint, total_passengers: double, start: string, stop: string],\n",
       " DataFrame[PULocationID: bigint, DOLocationID: bigint, average_unit_profit: double, trips_count: bigint, total_passengers: double, start: string, stop: string],\n",
       " DataFrame[PULocationID: bigint, DOLocationID: bigint, average_unit_profit: double, trips_count: bigint, total_passengers: double, start: string, stop: string]]"
      ]
     },
     "execution_count": 25,
     "metadata": {},
     "output_type": "execute_result"
    }
   ],
   "source": [
    "# run and record the resulting execution time shown by databricks (on the cell footer)\n",
    "\n",
    "# IMPORTANT: this function calls all task functions in order of occurrence. For this code to run without errors, you have to load into memory all of the previous task-specific functions, even if you haven't implemented these yet.\n",
    "pipeline(trips, with_task_12 = WITH_TASK_12)"
   ]
  },
  {
   "cell_type": "markdown",
   "metadata": {
    "application/vnd.databricks.v1+cell": {
     "cellMetadata": {
      "byteLimit": 2048000,
      "rowLimit": 10000
     },
     "inputWidgets": {},
     "nuid": "08018100-ac87-4801-94fc-c9fec3dc6a66",
     "showTitle": false,
     "title": ""
    }
   },
   "source": [
    "_Table 1. Pipeline performance for `parquet` format._\n",
    "\n",
    "| metric                      | S    | M    | L    | XL   | XXL  |\n",
    "|-----------------------------|------|------|------|------|------|\n",
    "| rows (M)                    |  2.89 |  15.57 |  41.95 |  90.44 |  132.39 |\n",
    "| execution time   (w/o 1.2)  | 0.36 | 0.22 | 0.28 | 0.31 | 0.43 |\n",
    "| execution time              | 1.69 | 5.18 | 14.07 | 35.24 | 44.59 |\n",
    "| sec / 1M records (w/o 1.2)  | 0.12  | 0.014  | 0.006  | 0.003  | 0.003  |\n",
    "| sec / 1M records            | 0.58  | 0.332  | 0.335  | 0.38  | 0.336  |"
   ]
  },
  {
   "cell_type": "markdown",
   "metadata": {
    "application/vnd.databricks.v1+cell": {
     "cellMetadata": {
      "byteLimit": 2048000,
      "rowLimit": 10000
     },
     "inputWidgets": {},
     "nuid": "e565c658-ba51-45cc-a617-227d6befb6dc",
     "showTitle": false,
     "title": ""
    }
   },
   "source": [
    "_Table 2. Pipeline performance for `delta` format._\n",
    "\n",
    "| metric                      | S    | M    | L    | XL   | XXL  |\n",
    "|-----------------------------|------|------|------|------|------|\n",
    "| rows (M)                    |  000 |  000 |  000 |  000 |  000 |\n",
    "| execution time   (w/o 1.2)  | 0.00 | 0.00 | 0.00 | 0.00 | 0.00 |\n",
    "| execution time              | 0.00 | 0.00 | 0.00 | 0.00 | 0.00 |\n",
    "| sec / 1M records (w/o 1.2)  | 0.0  | 0.0  | 0.0  | 0.0  | 0.0  |\n",
    "| sec / 1M records            | 0.0  | 0.0  | 0.0  | 0.0  | 0.0  |"
   ]
  }
 ],
 "metadata": {
  "application/vnd.databricks.v1+notebook": {
   "dashboards": [],
   "language": "python",
   "notebookMetadata": {
    "pythonIndentUnit": 4
   },
   "notebookName": "CSC8101-230195431-spark-coursework",
   "widgets": {}
  },
  "language_info": {
   "name": "plaintext"
  }
 },
 "nbformat": 4,
 "nbformat_minor": 0
}
